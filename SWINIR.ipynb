{
 "cells": [
  {
   "cell_type": "code",
   "execution_count": 1,
   "metadata": {},
   "outputs": [
    {
     "data": {
      "text/plain": [
       "0"
      ]
     },
     "execution_count": 1,
     "metadata": {},
     "output_type": "execute_result"
    }
   ],
   "source": [
    "import torch\n",
    "import torch.nn as nn\n",
    "import model\n",
    "import numpy as np\n",
    "\n",
    "%load_ext autoreload\n",
    "%autoreload 2\n",
    "\n",
    "torch.cuda.current_device()"
   ]
  },
  {
   "cell_type": "code",
   "execution_count": 2,
   "metadata": {},
   "outputs": [],
   "source": [
    "device = torch.device(\"cuda\" if torch.cuda.is_available() else \"cpu\")\n",
    "swinir = model.SWINIR(dim = (3,), RSTB_nos = 6, STL_nos = 6, window_size = (8, 8), channel_nos = 180, attn_head = 6, device=device).to(device)\n"
   ]
  },
  {
   "cell_type": "code",
   "execution_count": 3,
   "metadata": {},
   "outputs": [
    {
     "name": "stdout",
     "output_type": "stream",
     "text": [
      "142553088\n"
     ]
    }
   ],
   "source": [
    "torch.cuda.memory_allocated()\n",
    "print(torch.cuda.max_memory_allocated())\n",
    "\n",
    "img = torch.rand((1,3,128,128)).to(device=device)\n",
    "img = swinir(img)"
   ]
  },
  {
   "cell_type": "code",
   "execution_count": 4,
   "metadata": {},
   "outputs": [],
   "source": [
    "# import STL\n",
    "# device = torch.device(\"cuda\" if torch.cuda.is_available() else \"cpu\")\n",
    "# print(device)\n",
    "# sw = STL.swin(dim = (8, 32, 32), heads = 4, window_size = (4, 4), device=device)\n",
    "# img = torch.rand((1,8,32,32)).to(device=device)\n",
    "# sw(img)"
   ]
  },
  {
   "cell_type": "code",
   "execution_count": 5,
   "metadata": {},
   "outputs": [
    {
     "name": "stdout",
     "output_type": "stream",
     "text": [
      "tensor([[[[ 3.0111e-02,  4.6090e-02, -4.2531e-03,  ..., -2.9543e-01,\n",
      "            6.2488e-02, -8.7850e-04],\n",
      "          [-2.4959e-01, -2.1352e-01,  1.0310e-01,  ...,  2.2584e-01,\n",
      "           -1.5267e-01,  6.9559e-02],\n",
      "          [ 1.2720e-01,  2.3136e-01,  4.3923e-01,  ..., -6.3281e-01,\n",
      "            1.2452e-02, -3.2226e-01],\n",
      "          ...,\n",
      "          [ 9.8756e-02, -4.1331e-01, -3.2239e-01,  ..., -1.1067e+00,\n",
      "            2.1672e-02,  1.1364e-01],\n",
      "          [-3.9977e-01, -5.4751e-01, -9.6686e-02,  ..., -5.8309e-01,\n",
      "           -8.3201e-02,  8.4383e-02],\n",
      "          [-2.2387e-01, -1.1760e-01, -1.3703e-02,  ..., -1.1928e-01,\n",
      "           -1.2416e-01,  1.2816e-01]],\n",
      "\n",
      "         [[-7.2559e-02, -3.2430e-01, -4.7701e-02,  ..., -2.8971e-01,\n",
      "           -3.3749e-01,  6.2977e-03],\n",
      "          [-1.8330e-01,  1.3995e-01, -6.3188e-01,  ...,  2.0196e-01,\n",
      "            3.9151e-03,  1.4696e-02],\n",
      "          [-1.6281e-01, -6.5522e-01, -4.4660e-01,  ..., -8.0235e-02,\n",
      "           -5.1590e-01, -1.1679e-01],\n",
      "          ...,\n",
      "          [-2.7400e-01, -2.5046e-01, -1.6240e-01,  ...,  1.9480e-01,\n",
      "           -5.3686e-01, -8.0744e-01],\n",
      "          [ 1.6002e-01,  2.7011e-01, -9.6256e-03,  ..., -2.7857e-01,\n",
      "           -1.7334e-02, -2.8327e-01],\n",
      "          [ 7.2992e-02, -3.4300e-02, -1.5749e-01,  ..., -4.3536e-01,\n",
      "            2.0761e-02, -3.5590e-01]],\n",
      "\n",
      "         [[ 3.7454e-02,  2.7185e-01,  1.7474e-01,  ...,  1.3305e-02,\n",
      "            5.2804e-02,  2.3268e-01],\n",
      "          [ 2.3776e-01,  2.6562e-01,  2.2706e-01,  ...,  5.9296e-01,\n",
      "            3.2351e-01,  2.9225e-01],\n",
      "          [-1.6247e-01,  1.8766e-01, -1.5348e-01,  ..., -2.2579e-01,\n",
      "            3.1735e-01,  1.1501e-01],\n",
      "          ...,\n",
      "          [ 1.7430e-01,  4.6550e-01,  1.5299e-01,  ...,  5.6132e-01,\n",
      "            7.6821e-01,  3.9460e-01],\n",
      "          [ 5.2305e-03,  2.5598e-01,  7.4108e-01,  ..., -3.7153e-01,\n",
      "            1.7156e-01, -3.2650e-02],\n",
      "          [ 7.8590e-02,  2.8083e-01,  1.3644e-01,  ...,  6.8663e-02,\n",
      "            4.1314e-01,  1.5368e-01]]]], device='cuda:0',\n",
      "       grad_fn=<ConvolutionBackward0>) torch.Size([1, 3, 258, 258])\n",
      "cuda:0\n",
      "cuda\n"
     ]
    }
   ],
   "source": [
    "print(img,img.shape)\n",
    "print(img.device)\n",
    "print(device)"
   ]
  }
 ],
 "metadata": {
  "kernelspec": {
   "display_name": "Python 3",
   "language": "python",
   "name": "python3"
  },
  "language_info": {
   "codemirror_mode": {
    "name": "ipython",
    "version": 3
   },
   "file_extension": ".py",
   "mimetype": "text/x-python",
   "name": "python",
   "nbconvert_exporter": "python",
   "pygments_lexer": "ipython3",
   "version": "3.10.9"
  },
  "orig_nbformat": 4
 },
 "nbformat": 4,
 "nbformat_minor": 2
}
