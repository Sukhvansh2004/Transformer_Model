{
 "cells": [
  {
   "cell_type": "code",
   "execution_count": 1,
   "metadata": {},
   "outputs": [],
   "source": [
    "import torch\n",
    "import torch.nn as nn\n",
    "import model\n",
    "\n",
    "%load_ext autoreload\n",
    "%autoreload 2"
   ]
  },
  {
   "cell_type": "code",
   "execution_count": 2,
   "metadata": {},
   "outputs": [
    {
     "ename": "AssertionError",
     "evalue": "",
     "output_type": "error",
     "traceback": [
      "\u001b[1;31m---------------------------------------------------------------------------\u001b[0m",
      "\u001b[1;31mAssertionError\u001b[0m                            Traceback (most recent call last)",
      "\u001b[1;32mc:\\Users\\Sukhvansh Jain\\Desktop\\IIT Study Material\\Clubs\\SNTC\\STAC\\Inter IIT 11 ISRO PS\\Transformer_Model\\SWINIR.ipynb Cell 2\u001b[0m line \u001b[0;36m2\n\u001b[0;32m      <a href='vscode-notebook-cell:/c%3A/Users/Sukhvansh%20Jain/Desktop/IIT%20Study%20Material/Clubs/SNTC/STAC/Inter%20IIT%2011%20ISRO%20PS/Transformer_Model/SWINIR.ipynb#W1sZmlsZQ%3D%3D?line=0'>1</a>\u001b[0m device \u001b[39m=\u001b[39m torch\u001b[39m.\u001b[39mdevice(\u001b[39m\"\u001b[39m\u001b[39mcuda\u001b[39m\u001b[39m\"\u001b[39m \u001b[39mif\u001b[39;00m torch\u001b[39m.\u001b[39mcuda\u001b[39m.\u001b[39mis_available() \u001b[39melse\u001b[39;00m \u001b[39m\"\u001b[39m\u001b[39mcpu\u001b[39m\u001b[39m\"\u001b[39m)\n\u001b[1;32m----> <a href='vscode-notebook-cell:/c%3A/Users/Sukhvansh%20Jain/Desktop/IIT%20Study%20Material/Clubs/SNTC/STAC/Inter%20IIT%2011%20ISRO%20PS/Transformer_Model/SWINIR.ipynb#W1sZmlsZQ%3D%3D?line=1'>2</a>\u001b[0m swinir \u001b[39m=\u001b[39m model\u001b[39m.\u001b[39;49mSWINIR((\u001b[39m1\u001b[39;49m, \u001b[39m1\u001b[39;49m, \u001b[39m1\u001b[39;49m))\u001b[39m.\u001b[39mto(device\u001b[39m=\u001b[39mdevice)\n",
      "File \u001b[1;32mc:\\Users\\Sukhvansh Jain\\Desktop\\IIT Study Material\\Clubs\\SNTC\\STAC\\Inter IIT 11 ISRO PS\\Transformer_Model\\model.py:20\u001b[0m, in \u001b[0;36mSWINIR.__init__\u001b[1;34m(self, dim, RSTB_nos, STL_nos, window_size, channel_nos, attn_head)\u001b[0m\n\u001b[0;32m      9\u001b[0m \u001b[39m\u001b[39m\u001b[39m\"\"\"Implementation of the SWINIR Model:\u001b[39;00m\n\u001b[0;32m     10\u001b[0m \u001b[39m\u001b[39;00m\n\u001b[0;32m     11\u001b[0m \u001b[39mInputs:\u001b[39;00m\n\u001b[1;32m   (...)\u001b[0m\n\u001b[0;32m     16\u001b[0m \u001b[39m- channel_nos: No. of feature channels\u001b[39;00m\n\u001b[0;32m     17\u001b[0m \u001b[39m- attn_head: No. of attention heads for the MSA\"\"\"\u001b[39;00m\n\u001b[0;32m     19\u001b[0m \u001b[39msuper\u001b[39m()\u001b[39m.\u001b[39m\u001b[39m__init__\u001b[39m()\n\u001b[1;32m---> 20\u001b[0m \u001b[39mself\u001b[39m\u001b[39m.\u001b[39mextractor \u001b[39m=\u001b[39m feature(input_dimension \u001b[39m=\u001b[39;49m dim, output_dimension \u001b[39m=\u001b[39;49m (channel_nos, dim[\u001b[39m1\u001b[39;49m], dim[\u001b[39m2\u001b[39;49m]), n \u001b[39m=\u001b[39;49m np\u001b[39m.\u001b[39;49mones(RSTB_nos, dtype\u001b[39m=\u001b[39;49m\u001b[39mint\u001b[39;49m) \u001b[39m*\u001b[39;49m STL_nos, heads \u001b[39m=\u001b[39;49m np\u001b[39m.\u001b[39;49mones((RSTB_nos, STL_nos), dtype\u001b[39m=\u001b[39;49m\u001b[39mint\u001b[39;49m) \u001b[39m*\u001b[39;49m attn_head, window_size \u001b[39m=\u001b[39;49m window_size)\n\u001b[0;32m     21\u001b[0m \u001b[39mself\u001b[39m\u001b[39m.\u001b[39mHQ_Reconstruction \u001b[39m=\u001b[39m nn\u001b[39m.\u001b[39mSequential(\n\u001b[0;32m     22\u001b[0m     nn\u001b[39m.\u001b[39mConvTranspose2d(channel_nos, channel_nos\u001b[39m/\u001b[39m\u001b[39m/\u001b[39m\u001b[39m4\u001b[39m, \u001b[39m4\u001b[39m, \u001b[39m2\u001b[39m, padding\u001b[39m=\u001b[39m\u001b[39m1\u001b[39m),\n\u001b[0;32m     23\u001b[0m     nn\u001b[39m.\u001b[39mConv2d(channel_nos\u001b[39m/\u001b[39m\u001b[39m/\u001b[39m\u001b[39m4\u001b[39m, channel_nos\u001b[39m/\u001b[39m\u001b[39m/\u001b[39m\u001b[39m4\u001b[39m, \u001b[39m3\u001b[39m, padding\u001b[39m=\u001b[39m\u001b[39m\"\u001b[39m\u001b[39msame\u001b[39m\u001b[39m\"\u001b[39m),\n\u001b[1;32m   (...)\u001b[0m\n\u001b[0;32m     27\u001b[0m     nn\u001b[39m.\u001b[39mConv2d(dim[\u001b[39m0\u001b[39m], dim[\u001b[39m0\u001b[39m], \u001b[39m3\u001b[39m, padding\u001b[39m=\u001b[39m\u001b[39m\"\u001b[39m\u001b[39msame\u001b[39m\u001b[39m\"\u001b[39m)\n\u001b[0;32m     28\u001b[0m )\n",
      "File \u001b[1;32mc:\\Users\\Sukhvansh Jain\\Desktop\\IIT Study Material\\Clubs\\SNTC\\STAC\\Inter IIT 11 ISRO PS\\Transformer_Model\\feature_extractor.py:46\u001b[0m, in \u001b[0;36mfeature.__init__\u001b[1;34m(self, input_dimension, output_dimension, n, heads, window_size)\u001b[0m\n\u001b[0;32m     44\u001b[0m \u001b[39msuper\u001b[39m()\u001b[39m.\u001b[39m\u001b[39m__init__\u001b[39m()\n\u001b[0;32m     45\u001b[0m \u001b[39mself\u001b[39m\u001b[39m.\u001b[39mshallow \u001b[39m=\u001b[39m shallow_feature(input_dimension, output_dimension)\n\u001b[1;32m---> 46\u001b[0m \u001b[39mself\u001b[39m\u001b[39m.\u001b[39mdeep \u001b[39m=\u001b[39m deep_features(n, heads, output_dimension, window_size)\n",
      "File \u001b[1;32mc:\\Users\\Sukhvansh Jain\\Desktop\\IIT Study Material\\Clubs\\SNTC\\STAC\\Inter IIT 11 ISRO PS\\Transformer_Model\\feature_extractor.py:31\u001b[0m, in \u001b[0;36mdeep_features.__init__\u001b[1;34m(self, n, heads, dim, window_size)\u001b[0m\n\u001b[0;32m     29\u001b[0m \u001b[39mself\u001b[39m\u001b[39m.\u001b[39mn  \u001b[39m=\u001b[39m \u001b[39mlen\u001b[39m(n)\n\u001b[0;32m     30\u001b[0m \u001b[39mfor\u001b[39;00m i \u001b[39min\u001b[39;00m \u001b[39mrange\u001b[39m(\u001b[39m1\u001b[39m, \u001b[39mlen\u001b[39m(n)\u001b[39m+\u001b[39m\u001b[39m1\u001b[39m):\n\u001b[1;32m---> 31\u001b[0m     \u001b[39mself\u001b[39m\u001b[39m.\u001b[39mlayers[i] \u001b[39m=\u001b[39m RSTB\u001b[39m.\u001b[39;49mRSTB(dim, n[i\u001b[39m-\u001b[39;49m\u001b[39m1\u001b[39;49m], heads[i\u001b[39m-\u001b[39;49m\u001b[39m1\u001b[39;49m], window_size)\n\u001b[0;32m     32\u001b[0m \u001b[39mself\u001b[39m\u001b[39m.\u001b[39mConvolution \u001b[39m=\u001b[39m nn\u001b[39m.\u001b[39mConv2d(dim[\u001b[39m0\u001b[39m], dim[\u001b[39m0\u001b[39m], \u001b[39m3\u001b[39m, padding \u001b[39m=\u001b[39m \u001b[39m'\u001b[39m\u001b[39msame\u001b[39m\u001b[39m'\u001b[39m)\n",
      "File \u001b[1;32mc:\\Users\\Sukhvansh Jain\\Desktop\\IIT Study Material\\Clubs\\SNTC\\STAC\\Inter IIT 11 ISRO PS\\Transformer_Model\\RSTB.py:18\u001b[0m, in \u001b[0;36mRSTB.__init__\u001b[1;34m(self, dim, n, heads, window_size)\u001b[0m\n\u001b[0;32m     16\u001b[0m \u001b[39mself\u001b[39m\u001b[39m.\u001b[39mn \u001b[39m=\u001b[39m n\n\u001b[0;32m     17\u001b[0m \u001b[39mfor\u001b[39;00m i \u001b[39min\u001b[39;00m \u001b[39mrange\u001b[39m(n):\n\u001b[1;32m---> 18\u001b[0m     \u001b[39mself\u001b[39m\u001b[39m.\u001b[39mlayers[i\u001b[39m+\u001b[39m\u001b[39m1\u001b[39m] \u001b[39m=\u001b[39m STL\u001b[39m.\u001b[39;49mswin(dim\u001b[39m=\u001b[39;49m dim, heads \u001b[39m=\u001b[39;49m heads[i], window_size\u001b[39m=\u001b[39;49mwindow_size)\n\u001b[0;32m     19\u001b[0m \u001b[39mself\u001b[39m\u001b[39m.\u001b[39mconvolution \u001b[39m=\u001b[39m nn\u001b[39m.\u001b[39mConv2d(in_channels \u001b[39m=\u001b[39m dim[\u001b[39m0\u001b[39m], out_channels\u001b[39m=\u001b[39mdim[\u001b[39m0\u001b[39m], kernel_size \u001b[39m=\u001b[39m \u001b[39m3\u001b[39m, padding \u001b[39m=\u001b[39m \u001b[39m\"\u001b[39m\u001b[39msame\u001b[39m\u001b[39m\"\u001b[39m)\n",
      "File \u001b[1;32mc:\\Users\\Sukhvansh Jain\\Desktop\\IIT Study Material\\Clubs\\SNTC\\STAC\\Inter IIT 11 ISRO PS\\Transformer_Model\\STL.py:14\u001b[0m, in \u001b[0;36mswin.__init__\u001b[1;34m(self, dim, heads, window_size)\u001b[0m\n\u001b[0;32m     12\u001b[0m \u001b[39msuper\u001b[39m()\u001b[39m.\u001b[39m\u001b[39m__init__\u001b[39m()\n\u001b[0;32m     13\u001b[0m \u001b[39mself\u001b[39m\u001b[39m.\u001b[39mlayernorm1 \u001b[39m=\u001b[39m nn\u001b[39m.\u001b[39mLayerNorm(dim)\n\u001b[1;32m---> 14\u001b[0m \u001b[39mself\u001b[39m\u001b[39m.\u001b[39mMSA \u001b[39m=\u001b[39m MultiHeadAttention(dim\u001b[39m=\u001b[39;49mdim, num_heads\u001b[39m=\u001b[39;49mheads, window_size\u001b[39m=\u001b[39;49mwindow_size)\n\u001b[0;32m     15\u001b[0m \u001b[39mself\u001b[39m\u001b[39m.\u001b[39mlayernorm2 \u001b[39m=\u001b[39m nn\u001b[39m.\u001b[39mLayerNorm(dim)\n\u001b[0;32m     16\u001b[0m \u001b[39mself\u001b[39m\u001b[39m.\u001b[39mMLP \u001b[39m=\u001b[39m multi_layer_perceptron(dim[\u001b[39m0\u001b[39m] \u001b[39m*\u001b[39m dim[\u001b[39m1\u001b[39m] \u001b[39m*\u001b[39m dim[\u001b[39m2\u001b[39m])\n",
      "File \u001b[1;32mc:\\Users\\Sukhvansh Jain\\Desktop\\IIT Study Material\\Clubs\\SNTC\\STAC\\Inter IIT 11 ISRO PS\\Transformer_Model\\transformers_layer.py:29\u001b[0m, in \u001b[0;36mMultiHeadAttention.__init__\u001b[1;34m(self, dim, num_heads, window_size, dropout)\u001b[0m\n\u001b[0;32m     27\u001b[0m \u001b[39msuper\u001b[39m()\u001b[39m.\u001b[39m\u001b[39m__init__\u001b[39m()\n\u001b[0;32m     28\u001b[0m \u001b[39massert\u001b[39;00m dim[\u001b[39m0\u001b[39m] \u001b[39m%\u001b[39m num_heads \u001b[39m==\u001b[39m \u001b[39m0\u001b[39m\n\u001b[1;32m---> 29\u001b[0m \u001b[39massert\u001b[39;00m (dim[\u001b[39m1\u001b[39m] \u001b[39m*\u001b[39m dim[\u001b[39m2\u001b[39m]) \u001b[39m%\u001b[39m (window_size[\u001b[39m0\u001b[39m] \u001b[39m*\u001b[39m window_size[\u001b[39m1\u001b[39m]) \u001b[39m==\u001b[39m \u001b[39m0\u001b[39m\n\u001b[0;32m     31\u001b[0m \u001b[39mself\u001b[39m\u001b[39m.\u001b[39mn_head \u001b[39m=\u001b[39m num_heads\n\u001b[0;32m     32\u001b[0m \u001b[39mself\u001b[39m\u001b[39m.\u001b[39mhead_dim \u001b[39m=\u001b[39m (dim[\u001b[39m0\u001b[39m])\u001b[39m/\u001b[39m\u001b[39m/\u001b[39m \u001b[39mself\u001b[39m\u001b[39m.\u001b[39mn_head\n",
      "\u001b[1;31mAssertionError\u001b[0m: "
     ]
    }
   ],
   "source": [
    "device = torch.device(\"cuda\" if torch.cuda.is_available() else \"cpu\")\n",
    "swinir = model.SWINIR((3, 8, 8)).to(device=device)\n"
   ]
  },
  {
   "cell_type": "code",
   "execution_count": null,
   "metadata": {},
   "outputs": [
    {
     "name": "stdout",
     "output_type": "stream",
     "text": [
      "0\n"
     ]
    }
   ],
   "source": [
    "torch.cuda.memory_allocated()\n",
    "print(torch.cuda.max_memory_allocated())"
   ]
  }
 ],
 "metadata": {
  "kernelspec": {
   "display_name": "Python 3",
   "language": "python",
   "name": "python3"
  },
  "language_info": {
   "codemirror_mode": {
    "name": "ipython",
    "version": 3
   },
   "file_extension": ".py",
   "mimetype": "text/x-python",
   "name": "python",
   "nbconvert_exporter": "python",
   "pygments_lexer": "ipython3",
   "version": "3.10.9"
  },
  "orig_nbformat": 4
 },
 "nbformat": 4,
 "nbformat_minor": 2
}
