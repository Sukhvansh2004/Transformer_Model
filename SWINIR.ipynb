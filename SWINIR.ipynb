{
 "cells": [
  {
   "cell_type": "code",
   "execution_count": 1,
   "metadata": {},
   "outputs": [
    {
     "data": {
      "text/plain": [
       "0"
      ]
     },
     "execution_count": 1,
     "metadata": {},
     "output_type": "execute_result"
    }
   ],
   "source": [
    "import torch\n",
    "import torch.nn as nn\n",
    "import model\n",
    "import numpy as np\n",
    "\n",
    "%load_ext autoreload\n",
    "%autoreload 2\n",
    "\n",
    "torch.cuda.current_device()"
   ]
  },
  {
   "cell_type": "code",
   "execution_count": 2,
   "metadata": {},
   "outputs": [],
   "source": [
    "device = torch.device(\"cuda\" if torch.cuda.is_available() else \"cpu\")\n",
    "swinir = model.SWINIR(dim = (3, 32, 32), RSTB_nos = 3, STL_nos = 3, window_size = (4, 4), channel_nos = 12, attn_head = 4, device=device).to(device)\n"
   ]
  },
  {
   "cell_type": "code",
   "execution_count": 3,
   "metadata": {},
   "outputs": [
    {
     "name": "stdout",
     "output_type": "stream",
     "text": [
      "10874373632\n"
     ]
    }
   ],
   "source": [
    "torch.cuda.memory_allocated()\n",
    "print(torch.cuda.max_memory_allocated())\n",
    "\n",
    "img = torch.rand((1,3,32,32)).to(device=device)\n",
    "img = swinir(img)"
   ]
  },
  {
   "cell_type": "code",
   "execution_count": 4,
   "metadata": {},
   "outputs": [],
   "source": [
    "# import STL\n",
    "# device = torch.device(\"cuda\" if torch.cuda.is_available() else \"cpu\")\n",
    "# print(device)\n",
    "# sw = STL.swin(dim = (8, 32, 32), heads = 4, window_size = (4, 4), device=device)\n",
    "# img = torch.rand((1,8,32,32)).to(device=device)\n",
    "# sw(img)"
   ]
  },
  {
   "cell_type": "code",
   "execution_count": 5,
   "metadata": {},
   "outputs": [
    {
     "name": "stdout",
     "output_type": "stream",
     "text": [
      "tensor([[[[ 0.1034,  0.0614,  0.0467,  ...,  0.0714,  0.0577,  0.0691],\n",
      "          [ 0.1475,  0.0454,  0.0548,  ...,  0.0977,  0.1093,  0.0414],\n",
      "          [ 0.0972,  0.1146,  0.0821,  ...,  0.1152,  0.0465,  0.0813],\n",
      "          ...,\n",
      "          [ 0.0786,  0.0992,  0.0609,  ...,  0.0509,  0.0541,  0.0483],\n",
      "          [ 0.1283,  0.0977,  0.0716,  ...,  0.0858,  0.0873,  0.0516],\n",
      "          [ 0.0526,  0.0672,  0.0916,  ...,  0.0585,  0.0525,  0.0526]],\n",
      "\n",
      "         [[ 0.0322,  0.0659,  0.0558,  ...,  0.0466,  0.0623,  0.0351],\n",
      "          [ 0.0376,  0.0923,  0.0120,  ...,  0.0655,  0.0971,  0.0979],\n",
      "          [ 0.0400,  0.0165, -0.0262,  ...,  0.0051,  0.1058,  0.0345],\n",
      "          ...,\n",
      "          [-0.0014,  0.0310, -0.0192,  ...,  0.1125,  0.0827,  0.0648],\n",
      "          [ 0.0083, -0.0307,  0.0311,  ...,  0.0175,  0.0643,  0.0617],\n",
      "          [ 0.0680,  0.0478, -0.0082,  ...,  0.0428,  0.0698,  0.0510]],\n",
      "\n",
      "         [[-0.0501, -0.0429, -0.0804,  ..., -0.0375, -0.0582, -0.0273],\n",
      "          [-0.0587, -0.0863, -0.0845,  ..., -0.0813, -0.0711, -0.1342],\n",
      "          [-0.0927,  0.0348, -0.1286,  ..., -0.0365, -0.0974, -0.0458],\n",
      "          ...,\n",
      "          [-0.0396, -0.0192, -0.0438,  ..., -0.0729, -0.0766, -0.0586],\n",
      "          [-0.0503, -0.0341, -0.0365,  ..., -0.0530, -0.0739, -0.0957],\n",
      "          [-0.0990, -0.0741, -0.0549,  ..., -0.0829, -0.0922, -0.0816]]]],\n",
      "       device='cuda:0', grad_fn=<ConvolutionBackward0>) torch.Size([1, 3, 66, 66])\n",
      "cuda:0\n",
      "cuda\n"
     ]
    }
   ],
   "source": [
    "print(img,img.shape)\n",
    "print(img.device)\n",
    "print(device)"
   ]
  }
 ],
 "metadata": {
  "kernelspec": {
   "display_name": "Python 3",
   "language": "python",
   "name": "python3"
  },
  "language_info": {
   "codemirror_mode": {
    "name": "ipython",
    "version": 3
   },
   "file_extension": ".py",
   "mimetype": "text/x-python",
   "name": "python",
   "nbconvert_exporter": "python",
   "pygments_lexer": "ipython3",
   "version": "3.10.9"
  },
  "orig_nbformat": 4
 },
 "nbformat": 4,
 "nbformat_minor": 2
}
