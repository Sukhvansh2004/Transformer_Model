{
 "cells": [
  {
   "cell_type": "code",
   "execution_count": 1,
   "metadata": {},
   "outputs": [
    {
     "data": {
      "text/plain": [
       "0"
      ]
     },
     "execution_count": 1,
     "metadata": {},
     "output_type": "execute_result"
    }
   ],
   "source": [
    "import torch\n",
    "import torch.nn as nn\n",
    "import model\n",
    "import numpy as np\n",
    "\n",
    "%load_ext autoreload\n",
    "%autoreload 2\n",
    "\n",
    "torch.cuda.current_device()"
   ]
  },
  {
   "cell_type": "code",
   "execution_count": 16,
   "metadata": {},
   "outputs": [],
   "source": [
    "device = torch.device(\"cuda\" if torch.cuda.is_available() else \"cpu\")\n",
    "swinir = model.SWINIR(dim = (3, 32, 32), RSTB_nos = 3, STL_nos = 3, window_size = (4, 4), channel_nos = 8, attn_head = 4).to(device)\n"
   ]
  },
  {
   "cell_type": "code",
   "execution_count": 17,
   "metadata": {},
   "outputs": [
    {
     "name": "stdout",
     "output_type": "stream",
     "text": [
      "4308653056\n"
     ]
    },
    {
     "ename": "RuntimeError",
     "evalue": "Expected all tensors to be on the same device, but found at least two devices, cuda:0 and cpu! (when checking argument for argument weight in method wrapper_CUDA__native_layer_norm)",
     "output_type": "error",
     "traceback": [
      "\u001b[1;31m---------------------------------------------------------------------------\u001b[0m",
      "\u001b[1;31mRuntimeError\u001b[0m                              Traceback (most recent call last)",
      "\u001b[1;32mc:\\Users\\Sukhvansh Jain\\Desktop\\IIT Study Material\\Clubs\\SNTC\\STAC\\Inter IIT 11 ISRO PS\\Transformer_Model\\SWINIR.ipynb Cell 3\u001b[0m line \u001b[0;36m5\n\u001b[0;32m      <a href='vscode-notebook-cell:/c%3A/Users/Sukhvansh%20Jain/Desktop/IIT%20Study%20Material/Clubs/SNTC/STAC/Inter%20IIT%2011%20ISRO%20PS/Transformer_Model/SWINIR.ipynb#W2sZmlsZQ%3D%3D?line=1'>2</a>\u001b[0m \u001b[39mprint\u001b[39m(torch\u001b[39m.\u001b[39mcuda\u001b[39m.\u001b[39mmax_memory_allocated())\n\u001b[0;32m      <a href='vscode-notebook-cell:/c%3A/Users/Sukhvansh%20Jain/Desktop/IIT%20Study%20Material/Clubs/SNTC/STAC/Inter%20IIT%2011%20ISRO%20PS/Transformer_Model/SWINIR.ipynb#W2sZmlsZQ%3D%3D?line=3'>4</a>\u001b[0m img \u001b[39m=\u001b[39m torch\u001b[39m.\u001b[39mrand((\u001b[39m1\u001b[39m,\u001b[39m3\u001b[39m,\u001b[39m32\u001b[39m,\u001b[39m32\u001b[39m))\u001b[39m.\u001b[39mto(device\u001b[39m=\u001b[39mdevice)\n\u001b[1;32m----> <a href='vscode-notebook-cell:/c%3A/Users/Sukhvansh%20Jain/Desktop/IIT%20Study%20Material/Clubs/SNTC/STAC/Inter%20IIT%2011%20ISRO%20PS/Transformer_Model/SWINIR.ipynb#W2sZmlsZQ%3D%3D?line=4'>5</a>\u001b[0m img \u001b[39m=\u001b[39m swinir(img)\n",
      "File \u001b[1;32mc:\\Users\\Sukhvansh Jain\\AppData\\Local\\Programs\\Python\\Python310\\lib\\site-packages\\torch\\nn\\modules\\module.py:1501\u001b[0m, in \u001b[0;36mModule._call_impl\u001b[1;34m(self, *args, **kwargs)\u001b[0m\n\u001b[0;32m   1496\u001b[0m \u001b[39m# If we don't have any hooks, we want to skip the rest of the logic in\u001b[39;00m\n\u001b[0;32m   1497\u001b[0m \u001b[39m# this function, and just call forward.\u001b[39;00m\n\u001b[0;32m   1498\u001b[0m \u001b[39mif\u001b[39;00m \u001b[39mnot\u001b[39;00m (\u001b[39mself\u001b[39m\u001b[39m.\u001b[39m_backward_hooks \u001b[39mor\u001b[39;00m \u001b[39mself\u001b[39m\u001b[39m.\u001b[39m_backward_pre_hooks \u001b[39mor\u001b[39;00m \u001b[39mself\u001b[39m\u001b[39m.\u001b[39m_forward_hooks \u001b[39mor\u001b[39;00m \u001b[39mself\u001b[39m\u001b[39m.\u001b[39m_forward_pre_hooks\n\u001b[0;32m   1499\u001b[0m         \u001b[39mor\u001b[39;00m _global_backward_pre_hooks \u001b[39mor\u001b[39;00m _global_backward_hooks\n\u001b[0;32m   1500\u001b[0m         \u001b[39mor\u001b[39;00m _global_forward_hooks \u001b[39mor\u001b[39;00m _global_forward_pre_hooks):\n\u001b[1;32m-> 1501\u001b[0m     \u001b[39mreturn\u001b[39;00m forward_call(\u001b[39m*\u001b[39margs, \u001b[39m*\u001b[39m\u001b[39m*\u001b[39mkwargs)\n\u001b[0;32m   1502\u001b[0m \u001b[39m# Do not call functions when jit is used\u001b[39;00m\n\u001b[0;32m   1503\u001b[0m full_backward_hooks, non_full_backward_hooks \u001b[39m=\u001b[39m [], []\n",
      "File \u001b[1;32mc:\\Users\\Sukhvansh Jain\\Desktop\\IIT Study Material\\Clubs\\SNTC\\STAC\\Inter IIT 11 ISRO PS\\Transformer_Model\\model.py:30\u001b[0m, in \u001b[0;36mSWINIR.forward\u001b[1;34m(self, img)\u001b[0m\n\u001b[0;32m     29\u001b[0m \u001b[39mdef\u001b[39;00m \u001b[39mforward\u001b[39m(\u001b[39mself\u001b[39m, img):\n\u001b[1;32m---> 30\u001b[0m     \u001b[39mreturn\u001b[39;00m \u001b[39mself\u001b[39m\u001b[39m.\u001b[39mHQ_Reconstruction(\u001b[39mself\u001b[39;49m\u001b[39m.\u001b[39;49mextractor(img))\n",
      "File \u001b[1;32mc:\\Users\\Sukhvansh Jain\\AppData\\Local\\Programs\\Python\\Python310\\lib\\site-packages\\torch\\nn\\modules\\module.py:1501\u001b[0m, in \u001b[0;36mModule._call_impl\u001b[1;34m(self, *args, **kwargs)\u001b[0m\n\u001b[0;32m   1496\u001b[0m \u001b[39m# If we don't have any hooks, we want to skip the rest of the logic in\u001b[39;00m\n\u001b[0;32m   1497\u001b[0m \u001b[39m# this function, and just call forward.\u001b[39;00m\n\u001b[0;32m   1498\u001b[0m \u001b[39mif\u001b[39;00m \u001b[39mnot\u001b[39;00m (\u001b[39mself\u001b[39m\u001b[39m.\u001b[39m_backward_hooks \u001b[39mor\u001b[39;00m \u001b[39mself\u001b[39m\u001b[39m.\u001b[39m_backward_pre_hooks \u001b[39mor\u001b[39;00m \u001b[39mself\u001b[39m\u001b[39m.\u001b[39m_forward_hooks \u001b[39mor\u001b[39;00m \u001b[39mself\u001b[39m\u001b[39m.\u001b[39m_forward_pre_hooks\n\u001b[0;32m   1499\u001b[0m         \u001b[39mor\u001b[39;00m _global_backward_pre_hooks \u001b[39mor\u001b[39;00m _global_backward_hooks\n\u001b[0;32m   1500\u001b[0m         \u001b[39mor\u001b[39;00m _global_forward_hooks \u001b[39mor\u001b[39;00m _global_forward_pre_hooks):\n\u001b[1;32m-> 1501\u001b[0m     \u001b[39mreturn\u001b[39;00m forward_call(\u001b[39m*\u001b[39margs, \u001b[39m*\u001b[39m\u001b[39m*\u001b[39mkwargs)\n\u001b[0;32m   1502\u001b[0m \u001b[39m# Do not call functions when jit is used\u001b[39;00m\n\u001b[0;32m   1503\u001b[0m full_backward_hooks, non_full_backward_hooks \u001b[39m=\u001b[39m [], []\n",
      "File \u001b[1;32mc:\\Users\\Sukhvansh Jain\\Desktop\\IIT Study Material\\Clubs\\SNTC\\STAC\\Inter IIT 11 ISRO PS\\Transformer_Model\\feature_extractor.py:51\u001b[0m, in \u001b[0;36mfeature.forward\u001b[1;34m(self, img)\u001b[0m\n\u001b[0;32m     50\u001b[0m \u001b[39mdef\u001b[39;00m \u001b[39mforward\u001b[39m(\u001b[39mself\u001b[39m, img):\n\u001b[1;32m---> 51\u001b[0m     \u001b[39mreturn\u001b[39;00m \u001b[39mself\u001b[39;49m\u001b[39m.\u001b[39;49mdeep(\u001b[39mself\u001b[39;49m\u001b[39m.\u001b[39;49mshallow(img))\n",
      "File \u001b[1;32mc:\\Users\\Sukhvansh Jain\\AppData\\Local\\Programs\\Python\\Python310\\lib\\site-packages\\torch\\nn\\modules\\module.py:1501\u001b[0m, in \u001b[0;36mModule._call_impl\u001b[1;34m(self, *args, **kwargs)\u001b[0m\n\u001b[0;32m   1496\u001b[0m \u001b[39m# If we don't have any hooks, we want to skip the rest of the logic in\u001b[39;00m\n\u001b[0;32m   1497\u001b[0m \u001b[39m# this function, and just call forward.\u001b[39;00m\n\u001b[0;32m   1498\u001b[0m \u001b[39mif\u001b[39;00m \u001b[39mnot\u001b[39;00m (\u001b[39mself\u001b[39m\u001b[39m.\u001b[39m_backward_hooks \u001b[39mor\u001b[39;00m \u001b[39mself\u001b[39m\u001b[39m.\u001b[39m_backward_pre_hooks \u001b[39mor\u001b[39;00m \u001b[39mself\u001b[39m\u001b[39m.\u001b[39m_forward_hooks \u001b[39mor\u001b[39;00m \u001b[39mself\u001b[39m\u001b[39m.\u001b[39m_forward_pre_hooks\n\u001b[0;32m   1499\u001b[0m         \u001b[39mor\u001b[39;00m _global_backward_pre_hooks \u001b[39mor\u001b[39;00m _global_backward_hooks\n\u001b[0;32m   1500\u001b[0m         \u001b[39mor\u001b[39;00m _global_forward_hooks \u001b[39mor\u001b[39;00m _global_forward_pre_hooks):\n\u001b[1;32m-> 1501\u001b[0m     \u001b[39mreturn\u001b[39;00m forward_call(\u001b[39m*\u001b[39margs, \u001b[39m*\u001b[39m\u001b[39m*\u001b[39mkwargs)\n\u001b[0;32m   1502\u001b[0m \u001b[39m# Do not call functions when jit is used\u001b[39;00m\n\u001b[0;32m   1503\u001b[0m full_backward_hooks, non_full_backward_hooks \u001b[39m=\u001b[39m [], []\n",
      "File \u001b[1;32mc:\\Users\\Sukhvansh Jain\\Desktop\\IIT Study Material\\Clubs\\SNTC\\STAC\\Inter IIT 11 ISRO PS\\Transformer_Model\\feature_extractor.py:39\u001b[0m, in \u001b[0;36mdeep_features.forward\u001b[1;34m(self, features)\u001b[0m\n\u001b[0;32m     37\u001b[0m x \u001b[39m=\u001b[39m features\n\u001b[0;32m     38\u001b[0m \u001b[39mfor\u001b[39;00m i \u001b[39min\u001b[39;00m \u001b[39mrange\u001b[39m(\u001b[39m1\u001b[39m, \u001b[39mself\u001b[39m\u001b[39m.\u001b[39mn \u001b[39m+\u001b[39m \u001b[39m1\u001b[39m):\n\u001b[1;32m---> 39\u001b[0m     x \u001b[39m=\u001b[39m \u001b[39mself\u001b[39;49m\u001b[39m.\u001b[39;49mlayers[i](x)\n\u001b[0;32m     40\u001b[0m \u001b[39mreturn\u001b[39;00m \u001b[39mself\u001b[39m\u001b[39m.\u001b[39mConvolution(x) \u001b[39m+\u001b[39m features\n",
      "File \u001b[1;32mc:\\Users\\Sukhvansh Jain\\AppData\\Local\\Programs\\Python\\Python310\\lib\\site-packages\\torch\\nn\\modules\\module.py:1501\u001b[0m, in \u001b[0;36mModule._call_impl\u001b[1;34m(self, *args, **kwargs)\u001b[0m\n\u001b[0;32m   1496\u001b[0m \u001b[39m# If we don't have any hooks, we want to skip the rest of the logic in\u001b[39;00m\n\u001b[0;32m   1497\u001b[0m \u001b[39m# this function, and just call forward.\u001b[39;00m\n\u001b[0;32m   1498\u001b[0m \u001b[39mif\u001b[39;00m \u001b[39mnot\u001b[39;00m (\u001b[39mself\u001b[39m\u001b[39m.\u001b[39m_backward_hooks \u001b[39mor\u001b[39;00m \u001b[39mself\u001b[39m\u001b[39m.\u001b[39m_backward_pre_hooks \u001b[39mor\u001b[39;00m \u001b[39mself\u001b[39m\u001b[39m.\u001b[39m_forward_hooks \u001b[39mor\u001b[39;00m \u001b[39mself\u001b[39m\u001b[39m.\u001b[39m_forward_pre_hooks\n\u001b[0;32m   1499\u001b[0m         \u001b[39mor\u001b[39;00m _global_backward_pre_hooks \u001b[39mor\u001b[39;00m _global_backward_hooks\n\u001b[0;32m   1500\u001b[0m         \u001b[39mor\u001b[39;00m _global_forward_hooks \u001b[39mor\u001b[39;00m _global_forward_pre_hooks):\n\u001b[1;32m-> 1501\u001b[0m     \u001b[39mreturn\u001b[39;00m forward_call(\u001b[39m*\u001b[39margs, \u001b[39m*\u001b[39m\u001b[39m*\u001b[39mkwargs)\n\u001b[0;32m   1502\u001b[0m \u001b[39m# Do not call functions when jit is used\u001b[39;00m\n\u001b[0;32m   1503\u001b[0m full_backward_hooks, non_full_backward_hooks \u001b[39m=\u001b[39m [], []\n",
      "File \u001b[1;32mc:\\Users\\Sukhvansh Jain\\Desktop\\IIT Study Material\\Clubs\\SNTC\\STAC\\Inter IIT 11 ISRO PS\\Transformer_Model\\RSTB.py:27\u001b[0m, in \u001b[0;36mRSTB.forward\u001b[1;34m(self, input_features)\u001b[0m\n\u001b[0;32m     25\u001b[0m x \u001b[39m=\u001b[39m input_features\n\u001b[0;32m     26\u001b[0m \u001b[39mfor\u001b[39;00m i \u001b[39min\u001b[39;00m \u001b[39mrange\u001b[39m(\u001b[39mself\u001b[39m\u001b[39m.\u001b[39mn):\n\u001b[1;32m---> 27\u001b[0m     x \u001b[39m=\u001b[39m \u001b[39mself\u001b[39;49m\u001b[39m.\u001b[39;49mlayers[i\u001b[39m+\u001b[39;49m\u001b[39m1\u001b[39;49m](x)\n\u001b[0;32m     28\u001b[0m \u001b[39mreturn\u001b[39;00m input_features \u001b[39m+\u001b[39m \u001b[39mself\u001b[39m\u001b[39m.\u001b[39mconvolution(x)\n",
      "File \u001b[1;32mc:\\Users\\Sukhvansh Jain\\AppData\\Local\\Programs\\Python\\Python310\\lib\\site-packages\\torch\\nn\\modules\\module.py:1501\u001b[0m, in \u001b[0;36mModule._call_impl\u001b[1;34m(self, *args, **kwargs)\u001b[0m\n\u001b[0;32m   1496\u001b[0m \u001b[39m# If we don't have any hooks, we want to skip the rest of the logic in\u001b[39;00m\n\u001b[0;32m   1497\u001b[0m \u001b[39m# this function, and just call forward.\u001b[39;00m\n\u001b[0;32m   1498\u001b[0m \u001b[39mif\u001b[39;00m \u001b[39mnot\u001b[39;00m (\u001b[39mself\u001b[39m\u001b[39m.\u001b[39m_backward_hooks \u001b[39mor\u001b[39;00m \u001b[39mself\u001b[39m\u001b[39m.\u001b[39m_backward_pre_hooks \u001b[39mor\u001b[39;00m \u001b[39mself\u001b[39m\u001b[39m.\u001b[39m_forward_hooks \u001b[39mor\u001b[39;00m \u001b[39mself\u001b[39m\u001b[39m.\u001b[39m_forward_pre_hooks\n\u001b[0;32m   1499\u001b[0m         \u001b[39mor\u001b[39;00m _global_backward_pre_hooks \u001b[39mor\u001b[39;00m _global_backward_hooks\n\u001b[0;32m   1500\u001b[0m         \u001b[39mor\u001b[39;00m _global_forward_hooks \u001b[39mor\u001b[39;00m _global_forward_pre_hooks):\n\u001b[1;32m-> 1501\u001b[0m     \u001b[39mreturn\u001b[39;00m forward_call(\u001b[39m*\u001b[39margs, \u001b[39m*\u001b[39m\u001b[39m*\u001b[39mkwargs)\n\u001b[0;32m   1502\u001b[0m \u001b[39m# Do not call functions when jit is used\u001b[39;00m\n\u001b[0;32m   1503\u001b[0m full_backward_hooks, non_full_backward_hooks \u001b[39m=\u001b[39m [], []\n",
      "File \u001b[1;32mc:\\Users\\Sukhvansh Jain\\Desktop\\IIT Study Material\\Clubs\\SNTC\\STAC\\Inter IIT 11 ISRO PS\\Transformer_Model\\STL.py:21\u001b[0m, in \u001b[0;36mswin.forward\u001b[1;34m(self, features)\u001b[0m\n\u001b[0;32m     19\u001b[0m \u001b[39mdef\u001b[39;00m \u001b[39mforward\u001b[39m(\u001b[39mself\u001b[39m, features):\n\u001b[0;32m     20\u001b[0m \u001b[39m    \u001b[39m\u001b[39m\"\"\"Forward Implementation of the SWIN layer on the feature vectors\"\"\"\u001b[39;00m\n\u001b[1;32m---> 21\u001b[0m     x \u001b[39m=\u001b[39m \u001b[39mself\u001b[39;49m\u001b[39m.\u001b[39;49mlayernorm1(features)\n\u001b[0;32m     22\u001b[0m     attention_features \u001b[39m=\u001b[39m \u001b[39mself\u001b[39m\u001b[39m.\u001b[39mMSA(x) \u001b[39m+\u001b[39m x\n\u001b[0;32m     23\u001b[0m     x \u001b[39m=\u001b[39m \u001b[39mself\u001b[39m\u001b[39m.\u001b[39mlayernorm2(attention_features)\n",
      "File \u001b[1;32mc:\\Users\\Sukhvansh Jain\\AppData\\Local\\Programs\\Python\\Python310\\lib\\site-packages\\torch\\nn\\modules\\module.py:1501\u001b[0m, in \u001b[0;36mModule._call_impl\u001b[1;34m(self, *args, **kwargs)\u001b[0m\n\u001b[0;32m   1496\u001b[0m \u001b[39m# If we don't have any hooks, we want to skip the rest of the logic in\u001b[39;00m\n\u001b[0;32m   1497\u001b[0m \u001b[39m# this function, and just call forward.\u001b[39;00m\n\u001b[0;32m   1498\u001b[0m \u001b[39mif\u001b[39;00m \u001b[39mnot\u001b[39;00m (\u001b[39mself\u001b[39m\u001b[39m.\u001b[39m_backward_hooks \u001b[39mor\u001b[39;00m \u001b[39mself\u001b[39m\u001b[39m.\u001b[39m_backward_pre_hooks \u001b[39mor\u001b[39;00m \u001b[39mself\u001b[39m\u001b[39m.\u001b[39m_forward_hooks \u001b[39mor\u001b[39;00m \u001b[39mself\u001b[39m\u001b[39m.\u001b[39m_forward_pre_hooks\n\u001b[0;32m   1499\u001b[0m         \u001b[39mor\u001b[39;00m _global_backward_pre_hooks \u001b[39mor\u001b[39;00m _global_backward_hooks\n\u001b[0;32m   1500\u001b[0m         \u001b[39mor\u001b[39;00m _global_forward_hooks \u001b[39mor\u001b[39;00m _global_forward_pre_hooks):\n\u001b[1;32m-> 1501\u001b[0m     \u001b[39mreturn\u001b[39;00m forward_call(\u001b[39m*\u001b[39margs, \u001b[39m*\u001b[39m\u001b[39m*\u001b[39mkwargs)\n\u001b[0;32m   1502\u001b[0m \u001b[39m# Do not call functions when jit is used\u001b[39;00m\n\u001b[0;32m   1503\u001b[0m full_backward_hooks, non_full_backward_hooks \u001b[39m=\u001b[39m [], []\n",
      "File \u001b[1;32mc:\\Users\\Sukhvansh Jain\\AppData\\Local\\Programs\\Python\\Python310\\lib\\site-packages\\torch\\nn\\modules\\normalization.py:190\u001b[0m, in \u001b[0;36mLayerNorm.forward\u001b[1;34m(self, input)\u001b[0m\n\u001b[0;32m    189\u001b[0m \u001b[39mdef\u001b[39;00m \u001b[39mforward\u001b[39m(\u001b[39mself\u001b[39m, \u001b[39minput\u001b[39m: Tensor) \u001b[39m-\u001b[39m\u001b[39m>\u001b[39m Tensor:\n\u001b[1;32m--> 190\u001b[0m     \u001b[39mreturn\u001b[39;00m F\u001b[39m.\u001b[39;49mlayer_norm(\n\u001b[0;32m    191\u001b[0m         \u001b[39minput\u001b[39;49m, \u001b[39mself\u001b[39;49m\u001b[39m.\u001b[39;49mnormalized_shape, \u001b[39mself\u001b[39;49m\u001b[39m.\u001b[39;49mweight, \u001b[39mself\u001b[39;49m\u001b[39m.\u001b[39;49mbias, \u001b[39mself\u001b[39;49m\u001b[39m.\u001b[39;49meps)\n",
      "File \u001b[1;32mc:\\Users\\Sukhvansh Jain\\AppData\\Local\\Programs\\Python\\Python310\\lib\\site-packages\\torch\\nn\\functional.py:2515\u001b[0m, in \u001b[0;36mlayer_norm\u001b[1;34m(input, normalized_shape, weight, bias, eps)\u001b[0m\n\u001b[0;32m   2511\u001b[0m \u001b[39mif\u001b[39;00m has_torch_function_variadic(\u001b[39minput\u001b[39m, weight, bias):\n\u001b[0;32m   2512\u001b[0m     \u001b[39mreturn\u001b[39;00m handle_torch_function(\n\u001b[0;32m   2513\u001b[0m         layer_norm, (\u001b[39minput\u001b[39m, weight, bias), \u001b[39minput\u001b[39m, normalized_shape, weight\u001b[39m=\u001b[39mweight, bias\u001b[39m=\u001b[39mbias, eps\u001b[39m=\u001b[39meps\n\u001b[0;32m   2514\u001b[0m     )\n\u001b[1;32m-> 2515\u001b[0m \u001b[39mreturn\u001b[39;00m torch\u001b[39m.\u001b[39;49mlayer_norm(\u001b[39minput\u001b[39;49m, normalized_shape, weight, bias, eps, torch\u001b[39m.\u001b[39;49mbackends\u001b[39m.\u001b[39;49mcudnn\u001b[39m.\u001b[39;49menabled)\n",
      "\u001b[1;31mRuntimeError\u001b[0m: Expected all tensors to be on the same device, but found at least two devices, cuda:0 and cpu! (when checking argument for argument weight in method wrapper_CUDA__native_layer_norm)"
     ]
    }
   ],
   "source": [
    "torch.cuda.memory_allocated()\n",
    "print(torch.cuda.max_memory_allocated())\n",
    "\n",
    "img = torch.rand((1,3,32,32)).to(device=device)\n",
    "img = swinir(img)"
   ]
  },
  {
   "cell_type": "code",
   "execution_count": 18,
   "metadata": {},
   "outputs": [
    {
     "name": "stdout",
     "output_type": "stream",
     "text": [
      "cuda\n"
     ]
    },
    {
     "data": {
      "text/plain": [
       "tensor([[[[-1.1722,  1.0816,  0.6806,  ..., -0.9701, -1.4637,  0.1127],\n",
       "          [ 1.2503,  0.4973, -0.4432,  ...,  0.9722,  0.9606, -1.2567],\n",
       "          [ 0.2094,  0.3341, -1.1921,  ...,  1.6313, -1.5400,  0.7561],\n",
       "          ...,\n",
       "          [ 1.0012, -0.5629,  0.3839,  ...,  0.1184,  0.5683, -0.5523],\n",
       "          [-0.0299,  0.5838, -1.3276,  ...,  0.0884,  0.5970,  0.5578],\n",
       "          [ 0.2637,  0.8616,  1.9324,  ...,  0.4292, -1.7987, -1.9675]],\n",
       "\n",
       "         [[-1.5347,  1.4154, -1.3174,  ..., -0.2693,  0.1746,  0.8966],\n",
       "          [ 0.8050,  2.4466,  0.1406,  ...,  1.0277, -0.9213, -1.4639],\n",
       "          [-0.9834,  0.6715, -0.6120,  ...,  0.2265,  0.0532,  1.0976],\n",
       "          ...,\n",
       "          [-0.6811,  0.2672, -0.1466,  ...,  0.9939,  0.5515,  2.1054],\n",
       "          [-1.0184,  1.2785, -0.0760,  ..., -1.6847,  1.1358, -0.4729],\n",
       "          [ 1.0390, -0.6160,  1.4444,  ...,  1.1072,  1.7057,  0.3306]],\n",
       "\n",
       "         [[ 0.2616,  1.2516, -0.7437,  ...,  1.5711, -1.0451, -1.6353],\n",
       "          [-0.3829, -1.1479,  1.8920,  ...,  1.7060, -0.8794, -0.4528],\n",
       "          [-0.0451, -1.0614, -0.4564,  ...,  0.3166,  0.9358,  0.8643],\n",
       "          ...,\n",
       "          [-0.8618, -0.8761,  0.8908,  ...,  0.5403, -1.7982, -0.3978],\n",
       "          [-1.9316, -1.8260, -0.0033,  ..., -0.5303, -0.1145,  0.3063],\n",
       "          [-0.4461, -0.0122, -0.8498,  ...,  0.0737,  0.1009, -1.2688]],\n",
       "\n",
       "         ...,\n",
       "\n",
       "         [[-1.8217, -1.4862,  0.7584,  ..., -0.8869,  0.3905, -0.2250],\n",
       "          [-0.9605, -0.9744, -1.8309,  ..., -0.5900, -0.5318,  0.1537],\n",
       "          [-1.2339,  0.1546,  0.3344,  ..., -0.9023,  0.5990, -0.5480],\n",
       "          ...,\n",
       "          [-1.5204,  0.5058,  1.0097,  ...,  0.2096,  1.1144, -2.5767],\n",
       "          [-0.2622,  1.3625, -0.4647,  ...,  1.1643,  0.1694,  1.1076],\n",
       "          [-0.5163,  0.6590, -2.1695,  ...,  1.5486,  0.5455, -1.3181]],\n",
       "\n",
       "         [[-1.2993,  0.7253, -1.0327,  ...,  0.0637,  0.5607,  1.1215],\n",
       "          [ 1.1659,  1.2734,  1.4511,  ...,  1.7240, -0.2503,  1.2977],\n",
       "          [-0.5308,  0.9060, -1.1264,  ...,  0.1001, -0.2904, -0.4120],\n",
       "          ...,\n",
       "          [ 0.7959, -2.0966, -0.2918,  ..., -1.8409,  1.1644, -0.1007],\n",
       "          [-0.4851,  2.1993,  0.8374,  ...,  0.2872,  0.7689, -1.1214],\n",
       "          [ 1.2762,  0.3859,  2.0578,  ..., -2.3253, -1.0626,  0.4020]],\n",
       "\n",
       "         [[ 0.5946, -0.9356, -0.4789,  ...,  0.7066,  1.7878, -0.9300],\n",
       "          [-1.2341, -2.3677,  0.5359,  ..., -0.2297, -0.9704, -1.5829],\n",
       "          [ 0.9972,  0.6385,  1.2296,  ...,  0.4283, -1.1454,  0.2955],\n",
       "          ...,\n",
       "          [-0.7378,  2.1013, -0.5551,  ..., -1.2724, -0.0613,  0.3988],\n",
       "          [ 1.7355, -2.4998,  1.1976,  ...,  1.8217,  0.7232,  0.1682],\n",
       "          [ 0.6702, -0.6915,  0.9753,  ..., -1.3192, -0.9433, -0.8661]]]],\n",
       "       device='cuda:0', grad_fn=<AddBackward0>)"
      ]
     },
     "execution_count": 18,
     "metadata": {},
     "output_type": "execute_result"
    }
   ],
   "source": [
    "import STL\n",
    "device = torch.device(\"cuda\" if torch.cuda.is_available() else \"cpu\")\n",
    "print(device)\n",
    "sw = STL.swin(dim = (8, 32, 32), heads = 4, window_size = (4, 4), device=device)\n",
    "img = torch.rand((1,8,32,32)).to(device=device)\n",
    "sw(img)"
   ]
  },
  {
   "cell_type": "code",
   "execution_count": null,
   "metadata": {},
   "outputs": [
    {
     "name": "stdout",
     "output_type": "stream",
     "text": [
      "tensor([[[[0.5638, 0.3802, 0.7233,  ..., 0.6772, 0.6649, 0.3713],\n",
      "          [0.7716, 0.7245, 0.1899,  ..., 0.9555, 0.5838, 0.5650],\n",
      "          [0.2951, 0.8934, 0.5648,  ..., 0.5067, 0.3950, 0.0244],\n",
      "          ...,\n",
      "          [0.9656, 0.6246, 0.9286,  ..., 0.5982, 0.9206, 0.0704],\n",
      "          [0.2972, 0.6076, 0.5252,  ..., 0.2759, 0.0740, 0.0951],\n",
      "          [0.6573, 0.3386, 0.7409,  ..., 0.1874, 0.8102, 0.9871]],\n",
      "\n",
      "         [[0.5245, 0.1931, 0.4028,  ..., 0.0834, 0.8316, 0.3144],\n",
      "          [0.8389, 0.4516, 0.1831,  ..., 0.1247, 0.7569, 0.3493],\n",
      "          [0.6805, 0.8515, 0.8896,  ..., 0.7182, 0.6455, 0.3694],\n",
      "          ...,\n",
      "          [0.9696, 0.4106, 0.5952,  ..., 0.3794, 0.2742, 0.8685],\n",
      "          [0.5037, 0.1622, 0.7839,  ..., 0.2755, 0.1954, 0.9376],\n",
      "          [0.0280, 0.9272, 0.6927,  ..., 0.0093, 0.0772, 0.8401]],\n",
      "\n",
      "         [[0.2318, 0.8585, 0.0647,  ..., 0.4426, 0.2606, 0.7547],\n",
      "          [0.3406, 0.1243, 0.6880,  ..., 0.4728, 0.6388, 0.4027],\n",
      "          [0.8163, 0.1664, 0.4348,  ..., 0.4085, 0.4336, 0.5466],\n",
      "          ...,\n",
      "          [0.6712, 0.8029, 0.1719,  ..., 0.4850, 0.3139, 0.5788],\n",
      "          [0.4543, 0.8033, 0.4838,  ..., 0.7718, 0.1784, 0.8302],\n",
      "          [0.8100, 0.7842, 0.6420,  ..., 0.2857, 0.8226, 0.1726]]]],\n",
      "       device='cuda:0') torch.Size([1, 3, 32, 32])\n",
      "cuda:0\n",
      "cuda\n"
     ]
    }
   ],
   "source": [
    "print(img,img.shape)\n",
    "print(img.device)\n",
    "print(device)"
   ]
  }
 ],
 "metadata": {
  "kernelspec": {
   "display_name": "Python 3",
   "language": "python",
   "name": "python3"
  },
  "language_info": {
   "codemirror_mode": {
    "name": "ipython",
    "version": 3
   },
   "file_extension": ".py",
   "mimetype": "text/x-python",
   "name": "python",
   "nbconvert_exporter": "python",
   "pygments_lexer": "ipython3",
   "version": "3.10.9"
  },
  "orig_nbformat": 4
 },
 "nbformat": 4,
 "nbformat_minor": 2
}
